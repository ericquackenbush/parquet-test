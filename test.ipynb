{
 "cells": [
  {
   "cell_type": "code",
   "execution_count": 2,
   "id": "22e93fde",
   "metadata": {},
   "outputs": [
    {
     "data": {
      "text/html": [
       "<div>\n",
       "<style scoped>\n",
       "    .dataframe tbody tr th:only-of-type {\n",
       "        vertical-align: middle;\n",
       "    }\n",
       "\n",
       "    .dataframe tbody tr th {\n",
       "        vertical-align: top;\n",
       "    }\n",
       "\n",
       "    .dataframe thead th {\n",
       "        text-align: right;\n",
       "    }\n",
       "</style>\n",
       "<table border=\"1\" class=\"dataframe\">\n",
       "  <thead>\n",
       "    <tr style=\"text-align: right;\">\n",
       "      <th></th>\n",
       "      <th>field</th>\n",
       "    </tr>\n",
       "  </thead>\n",
       "  <tbody>\n",
       "    <tr>\n",
       "      <th>0</th>\n",
       "      <td>[{'a': 1}, {'a': 2}]</td>\n",
       "    </tr>\n",
       "  </tbody>\n",
       "</table>\n",
       "</div>"
      ],
      "text/plain": [
       "                  field\n",
       "0  [{'a': 1}, {'a': 2}]"
      ]
     },
     "execution_count": 2,
     "metadata": {},
     "output_type": "execute_result"
    }
   ],
   "source": [
    "import pandas as pd\n",
    "import pyarrow as pa\n",
    "import pyarrow.parquet\n",
    "\n",
    "df = pd.DataFrame({'field': [[{'a': 1}, {'a': 2}]]})\n",
    "schema = pa.schema(\n",
    "    [pa.field('field', pa.list_(pa.struct([('a', pa.int64())])))])\n",
    "table_write = pa.Table.from_pandas(df, schema=schema, preserve_index=False)\n",
    "pyarrow.parquet.write_table(table_write, 'test.parquet')\n",
    "table_read = pyarrow.parquet.read_table('test.parquet')\n",
    "table_read.to_pandas()"
   ]
  },
  {
   "cell_type": "code",
   "execution_count": 6,
   "id": "7b59dd5b",
   "metadata": {},
   "outputs": [],
   "source": [
    "from pyarrow import json\n",
    "table = json.read_json('one_line.json')"
   ]
  },
  {
   "cell_type": "code",
   "execution_count": 10,
   "id": "6b1330d6",
   "metadata": {},
   "outputs": [],
   "source": [
    "pq.write_table(table, 'example.parquet')"
   ]
  },
  {
   "cell_type": "code",
   "execution_count": 13,
   "id": "f0ad77a4",
   "metadata": {},
   "outputs": [
    {
     "data": {
      "text/plain": [
       "pyarrow.Table\n",
       "metadata: struct<a: int64, b: int64, c: int64>\n",
       "  child 0, a: int64\n",
       "  child 1, b: int64\n",
       "  child 2, c: int64\n",
       "data: list<item: struct<frequency: list<item: int64>, amplitude: list<item: int64>>>\n",
       "  child 0, item: struct<frequency: list<item: int64>, amplitude: list<item: int64>>\n",
       "      child 0, frequency: list<item: int64>\n",
       "          child 0, item: int64\n",
       "      child 1, amplitude: list<item: int64>\n",
       "          child 0, item: int64\n",
       "----\n",
       "metadata: [\n",
       "  -- is_valid: all not null\n",
       "  -- child 0 type: int64\n",
       "[1]\n",
       "  -- child 1 type: int64\n",
       "[2]\n",
       "  -- child 2 type: int64\n",
       "[3]]\n",
       "data: [[    -- is_valid: all not null\n",
       "    -- child 0 type: list<item: int64>\n",
       "[[1,2,3],[10,20,30]]\n",
       "    -- child 1 type: list<item: int64>\n",
       "[[4,5,6],[40,50,60]]]]"
      ]
     },
     "execution_count": 13,
     "metadata": {},
     "output_type": "execute_result"
    }
   ],
   "source": [
    "table"
   ]
  },
  {
   "cell_type": "code",
   "execution_count": 14,
   "id": "74c64732",
   "metadata": {},
   "outputs": [
    {
     "data": {
      "text/plain": [
       "{'metadata': [{'a': 1, 'b': 2, 'c': 3}],\n",
       " 'data': [[{'frequency': [1, 2, 3], 'amplitude': [4, 5, 6]},\n",
       "   {'frequency': [10, 20, 30], 'amplitude': [40, 50, 60]}]]}"
      ]
     },
     "execution_count": 14,
     "metadata": {},
     "output_type": "execute_result"
    }
   ],
   "source": [
    "table.to_pydict()"
   ]
  },
  {
   "cell_type": "code",
   "execution_count": null,
   "id": "848f3d9e",
   "metadata": {},
   "outputs": [],
   "source": []
  }
 ],
 "metadata": {
  "kernelspec": {
   "display_name": "Python 3 (ipykernel)",
   "language": "python",
   "name": "python3"
  },
  "language_info": {
   "codemirror_mode": {
    "name": "ipython",
    "version": 3
   },
   "file_extension": ".py",
   "mimetype": "text/x-python",
   "name": "python",
   "nbconvert_exporter": "python",
   "pygments_lexer": "ipython3",
   "version": "3.10.5"
  }
 },
 "nbformat": 4,
 "nbformat_minor": 5
}
